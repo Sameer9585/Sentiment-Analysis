{
 "cells": [
  {
   "cell_type": "code",
   "execution_count": 1,
   "metadata": {},
   "outputs": [],
   "source": [
    "from __future__ import print_function, division\n",
    "from future.utils import iteritems\n",
    "from builtins import range\n",
    "\n",
    "\n",
    "import nltk\n",
    "import numpy as np\n",
    "from sklearn.utils import shuffle\n",
    "\n",
    "from nltk.stem import WordNetLemmatizer\n",
    "from sklearn.linear_model import LogisticRegression\n",
    "from sklearn.ensemble import RandomForestClassifier\n",
    "from sklearn.ensemble import AdaBoostClassifier\n",
    "from sklearn.ensemble import GradientBoostingClassifier\n",
    "from bs4 import BeautifulSoup\n",
    "\n"
   ]
  },
  {
   "cell_type": "code",
   "execution_count": 2,
   "metadata": {},
   "outputs": [],
   "source": [
    "wordnet_lemmatizer = WordNetLemmatizer()\n",
    "\n",
    "# from http://www.lextek.com/manuals/onix/stopwords1.html\n",
    "stopwords = set(w.rstrip() for w in open('stopwords.txt'))\n",
    "\n",
    "# load the reviews\n",
    "# data courtesy of http://www.cs.jhu.edu/~mdredze/datasets/sentiment/index2.html\n",
    "positive_reviews = BeautifulSoup(open('Data/Manohar/positive.review').read() , \"lxml\")\n",
    "positive_reviews = positive_reviews.findAll('review_text')\n",
    "\n",
    "negative_reviews = BeautifulSoup(open('Data/Manohar/negative.review').read() , \"lxml\")\n",
    "negative_reviews = negative_reviews.findAll('review_text')\n",
    "\n",
    "diff = len(positive_reviews) - len(negative_reviews)\n",
    "idxs = np.random.choice(len(negative_reviews), size=diff)\n",
    "extra = [negative_reviews[i] for i in idxs]\n",
    "negative_reviews += extra\n"
   ]
  },
  {
   "cell_type": "code",
   "execution_count": 3,
   "metadata": {},
   "outputs": [
    {
     "name": "stdout",
     "output_type": "stream",
     "text": [
      "len(word_index_map): 11088\n"
     ]
    }
   ],
   "source": [
    "\n",
    "\n",
    "def my_tokenizer(s):\n",
    "    s = s.lower() # downcase\n",
    "    tokens = nltk.tokenize.word_tokenize(s) # split string into words (tokens)\n",
    "    tokens = [t for t in tokens if len(t) > 2] # remove short words, they're probably not useful\n",
    "    tokens = [wordnet_lemmatizer.lemmatize(t) for t in tokens] # put words into base form\n",
    "    tokens = [t for t in tokens if t not in stopwords] # remove stopwords\n",
    "    return tokens\n",
    "\n",
    "\n",
    "word_index_map = {}\n",
    "current_index = 0\n",
    "positive_tokenized = []\n",
    "negative_tokenized = []\n",
    "orig_reviews = []\n",
    "\n",
    "for review in positive_reviews:\n",
    "    orig_reviews.append(review.text)\n",
    "    tokens = my_tokenizer(review.text)\n",
    "    positive_tokenized.append(tokens)\n",
    "    for token in tokens:\n",
    "        if token not in word_index_map:\n",
    "            word_index_map[token] = current_index\n",
    "            current_index += 1\n",
    "\n",
    "for review in negative_reviews:\n",
    "    orig_reviews.append(review.text)\n",
    "    tokens = my_tokenizer(review.text)\n",
    "    negative_tokenized.append(tokens)\n",
    "    for token in tokens:\n",
    "        if token not in word_index_map:\n",
    "            word_index_map[token] = current_index\n",
    "            current_index += 1\n",
    "\n",
    "print(\"len(word_index_map):\", len(word_index_map))\n"
   ]
  },
  {
   "cell_type": "code",
   "execution_count": 4,
   "metadata": {},
   "outputs": [],
   "source": [
    "\n",
    "def tokens_to_vector(tokens, label):\n",
    "    x = np.zeros(len(word_index_map) + 1) # last element is for the label\n",
    "    for t in tokens:\n",
    "        i = word_index_map[t]\n",
    "        x[i] += 1\n",
    "    x = x / x.sum() # normalize it before setting label\n",
    "    x[-1] = label\n",
    "    return x\n",
    "\n",
    "N = len(positive_tokenized) + len(negative_tokenized)\n",
    "# (N x D+1 matrix - keeping them together for now so we can shuffle more easily later\n",
    "data = np.zeros((N, len(word_index_map) + 1))\n",
    "i = 0\n",
    "for tokens in positive_tokenized:\n",
    "    xy = tokens_to_vector(tokens, 1)\n",
    "    data[i,:] = xy\n",
    "    i += 1\n",
    "\n",
    "for tokens in negative_tokenized:\n",
    "    xy = tokens_to_vector(tokens, 0)\n",
    "    data[i,:] = xy\n",
    "    i += 1"
   ]
  },
  {
   "cell_type": "code",
   "execution_count": 5,
   "metadata": {},
   "outputs": [],
   "source": [
    "\n",
    "orig_reviews, data = shuffle(orig_reviews, data)\n",
    "\n",
    "X = data[:,:-1]\n",
    "Y = data[:,-1]\n",
    "\n",
    "# last 100 rows will be test\n",
    "Xtrain = X[:-100,]\n",
    "Ytrain = Y[:-100,]\n",
    "Xtest = X[-100:,]\n",
    "Ytest = Y[-100:,]\n"
   ]
  },
  {
   "cell_type": "code",
   "execution_count": 6,
   "metadata": {},
   "outputs": [
    {
     "name": "stdout",
     "output_type": "stream",
     "text": [
      "(1900, 11088)\n",
      "(1900,)\n"
     ]
    }
   ],
   "source": [
    "print(Xtrain.shape)\n",
    "print(Ytrain.shape)"
   ]
  },
  {
   "cell_type": "code",
   "execution_count": 7,
   "metadata": {},
   "outputs": [
    {
     "name": "stdout",
     "output_type": "stream",
     "text": [
      " Classifier ===> Logistic Regression\n",
      "Train accuracy: 0.7731578947368422\n",
      "Test accuracy: 0.78\n"
     ]
    },
    {
     "data": {
      "text/plain": [
       "'\\nmodel2 = RandomForestClassifier(n_estimators = 100)\\nmodel2.fit(Xtrain, Ytrain)\\nprint(\" Classifier ===> Random FOrest \")\\nprint(\"Train accuracy:\", model2.score(Xtrain, Ytrain))\\nprint(\"Test accuracy:\", model2.score(Xtest, Ytest))\\n\\nmodel3 = AdaBoostClassifier()\\nmodel3.fit(Xtrain, Ytrain)\\nprint(\" Classifer ===> AdaBoost \")\\nprint(\"Train accuracy:\", model3.score(Xtrain, Ytrain))\\nprint(\"Test accuracy:\", model3.score(Xtest, Ytest))\\n\\nmodel4 = GradientBoostingClassifier( learning_rate=0.05, n_estimators=200)\\nmodel4.fit(Xtrain, Ytrain)\\nprint(\" Classifer ===> GradientBoosting \")\\nprint(\"Train accuracy:\", model4.score(Xtrain, Ytrain))\\nprint(\"Test accuracy:\", model4.score(Xtest, Ytest))\\n'"
      ]
     },
     "execution_count": 7,
     "metadata": {},
     "output_type": "execute_result"
    }
   ],
   "source": [
    "model = LogisticRegression()\n",
    "model.fit(Xtrain, Ytrain)\n",
    "print(\" Classifier ===> Logistic Regression\")\n",
    "print(\"Train accuracy:\", model.score(Xtrain, Ytrain))\n",
    "print(\"Test accuracy:\", model.score(Xtest, Ytest))\n",
    "\n",
    "'''\n",
    "model2 = RandomForestClassifier(n_estimators = 100)\n",
    "model2.fit(Xtrain, Ytrain)\n",
    "print(\" Classifier ===> Random FOrest \")\n",
    "print(\"Train accuracy:\", model2.score(Xtrain, Ytrain))\n",
    "print(\"Test accuracy:\", model2.score(Xtest, Ytest))\n",
    "\n",
    "model3 = AdaBoostClassifier()\n",
    "model3.fit(Xtrain, Ytrain)\n",
    "print(\" Classifer ===> AdaBoost \")\n",
    "print(\"Train accuracy:\", model3.score(Xtrain, Ytrain))\n",
    "print(\"Test accuracy:\", model3.score(Xtest, Ytest))\n",
    "\n",
    "model4 = GradientBoostingClassifier( learning_rate=0.05, n_estimators=200)\n",
    "model4.fit(Xtrain, Ytrain)\n",
    "print(\" Classifer ===> GradientBoosting \")\n",
    "print(\"Train accuracy:\", model4.score(Xtrain, Ytrain))\n",
    "print(\"Test accuracy:\", model4.score(Xtest, Ytest))\n",
    "'''"
   ]
  },
  {
   "cell_type": "code",
   "execution_count": 8,
   "metadata": {},
   "outputs": [
    {
     "name": "stdout",
     "output_type": "stream",
     "text": [
      "unit -0.7367413701698569\n",
      "bad -0.7820764811971382\n",
      "cable 0.6148118302597394\n",
      "time -0.7635476133341038\n",
      "'ve 0.8319682950088655\n",
      "month -0.6806588618615479\n",
      "sound 1.043925391008104\n",
      "lot 0.6432886669179082\n",
      "you 0.9690937592797015\n",
      "n't -2.057855352987479\n",
      "easy 1.6798862200191131\n",
      "quality 1.4200025928094449\n",
      "item -0.916568125131844\n",
      "wa -1.4900810801731392\n",
      "perfect 0.9975189537657108\n",
      "fast 0.8787526704956587\n",
      "ha 0.6360589495260707\n",
      "price 2.7288501950007764\n",
      "value 0.5349659741080581\n",
      "money -1.0094101582840875\n",
      "memory 0.9512264410454666\n",
      "picture 0.5374764304713491\n",
      "buy -0.8840031113166057\n",
      "bit 0.6237119530920151\n",
      "happy 0.6315432805922042\n",
      "pretty 0.6628153005113541\n",
      "doe -1.190798842084547\n",
      "highly 0.9493702485197745\n",
      "recommend 0.6801460223738954\n",
      "customer -0.6629910271676017\n",
      "support -0.8759062208424283\n",
      "little 0.8653683131727788\n",
      "returned -0.8157447782194516\n",
      "excellent 1.3838418097960996\n",
      "love 1.1775334343993868\n",
      "week -0.7468098166902429\n",
      "using 0.7096481765595756\n",
      "laptop 0.5344980646262885\n",
      "poor -0.7274115798361521\n",
      "look 0.5661799589764056\n",
      "then -1.0732567727312625\n",
      "tried -0.7249887907793053\n",
      "try -0.5557037720862925\n",
      "space 0.5583286242117289\n",
      "comfortable 0.6557926966732299\n",
      "expected 0.5752228808291117\n",
      "speaker 0.8808615315324978\n",
      "warranty -0.6192464890250935\n",
      "stopped -0.5607793122635344\n",
      "junk -0.5506052997687817\n",
      "returning -0.5159989981815931\n",
      "paper 0.598167529689874\n",
      "terrible -0.5035490891439133\n",
      "return -1.1754422856177567\n",
      "waste -1.0453090643818794\n",
      "refund -0.6106417482374359\n"
     ]
    }
   ],
   "source": [
    "\n",
    "threshold = 0.5\n",
    "for word, index in iteritems(word_index_map):\n",
    "    weight = model.coef_[0][index]\n",
    "    if weight > threshold or weight < -threshold:\n",
    "        print(word, weight)\n"
   ]
  },
  {
   "cell_type": "code",
   "execution_count": 9,
   "metadata": {},
   "outputs": [
    {
     "name": "stdout",
     "output_type": "stream",
     "text": [
      "Most wrong positive review (prob = 0.3578392001658507, pred = 0.0):\n",
      "\n",
      "A device like this either works or it doesn't.  This one happens to work\n",
      "\n",
      "Most wrong negative review (prob = 0.603476348187256, pred = 1.0):\n",
      "\n",
      "The Voice recorder meets all my expectations and more\n",
      "Easy to use, easy to transfer great results\n",
      "\n"
     ]
    }
   ],
   "source": [
    "preds = model.predict(X)\n",
    "P = model.predict_proba(X)[:,1] # p(y = 1 | x)\n",
    "\n",
    "\n",
    "minP_whenYis1 = 1\n",
    "maxP_whenYis0 = 0\n",
    "wrong_positive_review = None\n",
    "wrong_negative_review = None\n",
    "wrong_positive_prediction = None\n",
    "wrong_negative_prediction = None\n",
    "for i in range(N):\n",
    "    p = P[i]\n",
    "    y = Y[i]\n",
    "    if y == 1 and p < 0.5:\n",
    "        if p < minP_whenYis1:\n",
    "            wrong_positive_review = orig_reviews[i]\n",
    "            wrong_positive_prediction = preds[i]\n",
    "            minP_whenYis1 = p\n",
    "    elif y == 0 and p > 0.5:\n",
    "        if p > maxP_whenYis0:\n",
    "            wrong_negative_review = orig_reviews[i]\n",
    "            wrong_negative_prediction = preds[i]\n",
    "            maxP_whenYis0 = p\n",
    "\n",
    "print(\"Most wrong positive review (prob = %s, pred = %s):\" % (minP_whenYis1, wrong_positive_prediction))\n",
    "print(wrong_positive_review)\n",
    "print(\"Most wrong negative review (prob = %s, pred = %s):\" % (maxP_whenYis0, wrong_negative_prediction))\n",
    "print(wrong_negative_review)"
   ]
  },
  {
   "cell_type": "code",
   "execution_count": 10,
   "metadata": {},
   "outputs": [
    {
     "name": "stdout",
     "output_type": "stream",
     "text": [
      "(1900, 11088)\n",
      "(100, 11088)\n",
      "(1900, 1)\n",
      "(100, 1)\n"
     ]
    }
   ],
   "source": [
    "import numpy as np\n",
    "\n",
    "Xtrain = np.asmatrix(Xtrain)\n",
    "Xtest = np.asmatrix(Xtest)\n",
    "Ytrain = np.asmatrix(Ytrain).T\n",
    "Ytest = np.asmatrix(Ytest).T\n",
    "\n",
    "print(Xtrain.shape)\n",
    "print(Xtest.shape)\n",
    "print(Ytrain.shape)\n",
    "print(Ytest.shape)"
   ]
  },
  {
   "cell_type": "code",
   "execution_count": 11,
   "metadata": {},
   "outputs": [],
   "source": [
    "# Lets try Normalizing X \n",
    "\n",
    "from sklearn.preprocessing import normalize \n",
    "\n",
    "Xtrain = normalize(Xtrain)"
   ]
  },
  {
   "cell_type": "code",
   "execution_count": 17,
   "metadata": {},
   "outputs": [],
   "source": [
    "# Fitting it into Neural Network\n",
    "# We're gonna use 34,178,000 Parameters \n",
    "# Running a Neural Network for better Score \n",
    "\n",
    "import keras \n",
    "import tensorflow as tf\n",
    "\n",
    "D = Xtrain.shape[1]\n",
    "#K = Ytrain.shape[1]\n",
    "\n",
    "# Creating the placeholders for storing the X and Y variables \n",
    "\n",
    "tf_X = tf.placeholder(tf.float32 , [None,D])\n",
    "tf_Y = tf.placeholder(tf.float32 , [None,1])\n",
    "\n",
    "# Designing the Layer 1 \n",
    "\n",
    "W1 = tf.Variable(tf.random_normal([D,2000]))\n",
    "b1 = tf.Variable(tf.zeros([2000]))\n",
    "\n",
    "Layer_1 = tf.nn.relu(tf.matmul(tf_X,W1) + b1)\n",
    "drop_out_1 = tf.nn.dropout(Layer_1, 0.95)\n",
    "\n",
    "# Designing the Layer 2 \n",
    "\n",
    "W2 = tf.Variable(tf.random_normal([2000,2500] , stddev = 0.01))\n",
    "b2 = tf.Variable(tf.zeros([2500]))\n",
    "\n",
    "Layer_2 = tf.nn.relu(tf.matmul(drop_out_1,W2) + b2)\n",
    "drop_out_2 = tf.nn.dropout(Layer_2, 0.95)\n",
    "\n",
    "# Designing the Layer 3 \n",
    "\n",
    "W3 = tf.Variable(tf.random_normal([2500,2000] , stddev = 0.01))\n",
    "b3 = tf.Variable(tf.zeros([2000]))\n",
    "\n",
    "Layer_3 = tf.nn.relu(tf.matmul(drop_out_2,W3) + b3)\n",
    "drop_out_3 = tf.nn.dropout(Layer_3, 0.95)\n",
    "\n",
    "# Designing the Output\n",
    "\n",
    "W4 = tf.Variable(tf.random_normal([2000,1] , stddev = 0.01))\n",
    "b4 = tf.Variable(tf.zeros([1]))\n",
    "\n",
    "output = tf.nn.sigmoid(tf.matmul(drop_out_3,W4) + b4)\n",
    "\n",
    "# Defining our cost function which we have to reduce \n",
    "\n",
    "loss = tf.reduce_sum(-tf_Y*tf.log(output) - (1-tf_Y)*tf.log(1-output))\n",
    "\n",
    "# Defining the function for Gradient Descent \n",
    "\n",
    "#train = tf.train.GradientDescentOptimizer(learning_rate = 0.001).minimize(loss)\n",
    "train = tf.train.AdamOptimizer(learning_rate = 0.001).minimize(loss)"
   ]
  },
  {
   "cell_type": "code",
   "execution_count": 18,
   "metadata": {},
   "outputs": [
    {
     "name": "stdout",
     "output_type": "stream",
     "text": [
      "Epoch : 0  Batch : 0 Cost : 95.47754\n",
      "Epoch : 0  Batch : 1 Cost : 95.47754\n",
      "Epoch : 0  Batch : 2 Cost : 95.47754\n",
      "Epoch : 0  Batch : 3 Cost : 95.47754\n",
      "Epoch : 0  Batch : 4 Cost : 95.47754\n",
      "Epoch : 0  Batch : 5 Cost : 95.47754\n",
      "Epoch : 0  Batch : 6 Cost : 95.47754\n",
      "Epoch : 0  Batch : 7 Cost : 95.47754\n",
      "Epoch : 0  Batch : 8 Cost : 95.47754\n",
      "Epoch : 0  Batch : 9 Cost : 95.47754\n",
      "Epoch : 0  Batch : 10 Cost : 95.47754\n",
      "Epoch : 0  Batch : 11 Cost : 95.47754\n",
      "Epoch : 0  Batch : 12 Cost : 95.47754\n",
      "Epoch : 0  Batch : 13 Cost : 95.47754\n",
      "Epoch : 0  Batch : 14 Cost : 95.47754\n",
      "Epoch : 0  Batch : 15 Cost : 95.47754\n",
      "Epoch : 0  Batch : 16 Cost : 95.47754\n",
      "Epoch : 0  Batch : 17 Cost : 95.47754\n",
      "Epoch : 0  Batch : 18 Cost : 95.47754\n",
      "Epoch : 1  Batch : 0 Cost : 144.8294\n",
      "Epoch : 1  Batch : 1 Cost : 144.8294\n",
      "Epoch : 1  Batch : 2 Cost : 144.8294\n",
      "Epoch : 1  Batch : 3 Cost : 144.8294\n",
      "Epoch : 1  Batch : 4 Cost : 144.8294\n",
      "Epoch : 1  Batch : 5 Cost : 144.8294\n",
      "Epoch : 1  Batch : 6 Cost : 144.8294\n",
      "Epoch : 1  Batch : 7 Cost : 144.8294\n",
      "Epoch : 1  Batch : 8 Cost : 144.8294\n",
      "Epoch : 1  Batch : 9 Cost : 144.8294\n",
      "Epoch : 1  Batch : 10 Cost : 144.8294\n",
      "Epoch : 1  Batch : 11 Cost : 144.8294\n",
      "Epoch : 1  Batch : 12 Cost : 144.8294\n",
      "Epoch : 1  Batch : 13 Cost : 144.8294\n",
      "Epoch : 1  Batch : 14 Cost : 144.8294\n",
      "Epoch : 1  Batch : 15 Cost : 144.8294\n",
      "Epoch : 1  Batch : 16 Cost : 144.8294\n",
      "Epoch : 1  Batch : 17 Cost : 144.8294\n",
      "Epoch : 1  Batch : 18 Cost : 144.8294\n",
      "Epoch : 2  Batch : 0 Cost : 87.50185\n",
      "Epoch : 2  Batch : 1 Cost : 87.50185\n",
      "Epoch : 2  Batch : 2 Cost : 87.50185\n",
      "Epoch : 2  Batch : 3 Cost : 87.50185\n",
      "Epoch : 2  Batch : 4 Cost : 87.50185\n",
      "Epoch : 2  Batch : 5 Cost : 87.50185\n",
      "Epoch : 2  Batch : 6 Cost : 87.50185\n",
      "Epoch : 2  Batch : 7 Cost : 87.50185\n",
      "Epoch : 2  Batch : 8 Cost : 87.50185\n",
      "Epoch : 2  Batch : 9 Cost : 87.50185\n",
      "Epoch : 2  Batch : 10 Cost : 87.50185\n",
      "Epoch : 2  Batch : 11 Cost : 87.50185\n",
      "Epoch : 2  Batch : 12 Cost : 87.50185\n",
      "Epoch : 2  Batch : 13 Cost : 87.50185\n",
      "Epoch : 2  Batch : 14 Cost : 87.50185\n",
      "Epoch : 2  Batch : 15 Cost : 87.50185\n",
      "Epoch : 2  Batch : 16 Cost : 87.50185\n",
      "Epoch : 2  Batch : 17 Cost : 87.50185\n",
      "Epoch : 2  Batch : 18 Cost : 87.50185\n",
      "Epoch : 3  Batch : 0 Cost : 69.74303\n",
      "Epoch : 3  Batch : 1 Cost : 69.74303\n",
      "Epoch : 3  Batch : 2 Cost : 69.74303\n",
      "Epoch : 3  Batch : 3 Cost : 69.74303\n",
      "Epoch : 3  Batch : 4 Cost : 69.74303\n",
      "Epoch : 3  Batch : 5 Cost : 69.74303\n",
      "Epoch : 3  Batch : 6 Cost : 69.74303\n",
      "Epoch : 3  Batch : 7 Cost : 69.74303\n",
      "Epoch : 3  Batch : 8 Cost : 69.74303\n",
      "Epoch : 3  Batch : 9 Cost : 69.74303\n",
      "Epoch : 3  Batch : 10 Cost : 69.74303\n",
      "Epoch : 3  Batch : 11 Cost : 69.74303\n",
      "Epoch : 3  Batch : 12 Cost : 69.74303\n",
      "Epoch : 3  Batch : 13 Cost : 69.74303\n",
      "Epoch : 3  Batch : 14 Cost : 69.74303\n",
      "Epoch : 3  Batch : 15 Cost : 69.74303\n",
      "Epoch : 3  Batch : 16 Cost : 69.74303\n",
      "Epoch : 3  Batch : 17 Cost : 69.74303\n",
      "Epoch : 3  Batch : 18 Cost : 69.74303\n",
      "Epoch : 4  Batch : 0 Cost : 69.16631\n",
      "Epoch : 4  Batch : 1 Cost : 69.16631\n",
      "Epoch : 4  Batch : 2 Cost : 69.16631\n",
      "Epoch : 4  Batch : 3 Cost : 69.16631\n",
      "Epoch : 4  Batch : 4 Cost : 69.16631\n",
      "Epoch : 4  Batch : 5 Cost : 69.16631\n",
      "Epoch : 4  Batch : 6 Cost : 69.16631\n",
      "Epoch : 4  Batch : 7 Cost : 69.16631\n",
      "Epoch : 4  Batch : 8 Cost : 69.16631\n",
      "Epoch : 4  Batch : 9 Cost : 69.16631\n",
      "Epoch : 4  Batch : 10 Cost : 69.16631\n",
      "Epoch : 4  Batch : 11 Cost : 69.16631\n",
      "Epoch : 4  Batch : 12 Cost : 69.16631\n",
      "Epoch : 4  Batch : 13 Cost : 69.16631\n",
      "Epoch : 4  Batch : 14 Cost : 69.16631\n",
      "Epoch : 4  Batch : 15 Cost : 69.16631\n",
      "Epoch : 4  Batch : 16 Cost : 69.16631\n",
      "Epoch : 4  Batch : 17 Cost : 69.16631\n",
      "Epoch : 4  Batch : 18 Cost : 69.16631\n"
     ]
    },
    {
     "data": {
      "image/png": "[encoded data removed]",
      "text/plain": [
       "<Figure size 432x288 with 1 Axes>"
      ]
     },
     "metadata": {},
     "output_type": "display_data"
    },
    {
     "data": {
      "image/png": "[encoded data removed]",
      "text/plain": [
       "<Figure size 432x288 with 1 Axes>"
      ]
     },
     "metadata": {},
     "output_type": "display_data"
    }
   ],
   "source": [
    "import matplotlib.pyplot as plt\n",
    "import random\n",
    "\n",
    "with tf.Session() as sess:\n",
    "    \n",
    "    sess.run(tf.global_variables_initializer())\n",
    "    \n",
    "    ctrain = []\n",
    "    ctest = []\n",
    "    Outputs = []\n",
    "    \n",
    "    batch_size = 100\n",
    "    no_of_batches = 19\n",
    "    for i in range(5):\n",
    "        for j in range(no_of_batches):\n",
    "            idx = random.sample(range(1900), 100)\n",
    "            X = Xtrain[idx]\n",
    "            Y = Ytrain[idx]\n",
    "            \n",
    "            sess.run(train,feed_dict = {tf_X : X , tf_Y : Y})\n",
    "            Outputs.append(sess.run(output , feed_dict = {tf_X : Xtest}))\n",
    "            ctrain.append(sess.run(loss, feed_dict={tf_X : X,tf_Y : Y}))\n",
    "            ctest.append(sess.run(loss, feed_dict={tf_X : Xtest,tf_Y : Ytest}))\n",
    "            print('Epoch :',i,' Batch :' , j , 'Cost :',ctrain[i])\n",
    "    \n",
    "    \n",
    "# Lets plot the Data's\n",
    "\n",
    "plt.plot(ctrain)\n",
    "plt.title(\" Training Costs vs Epochs \")\n",
    "plt.xlabel(\" Epochs \")\n",
    "plt.ylabel(\" Costs \")\n",
    "plt.show()\n",
    "\n",
    "plt.plot(ctest)\n",
    "plt.title(\" Testing Costs vs Epochs \")\n",
    "plt.xlabel(\" Epochs \")\n",
    "plt.ylabel(\" Costs \")\n",
    "plt.show()"
   ]
  },
  {
   "cell_type": "code",
   "execution_count": 19,
   "metadata": {},
   "outputs": [
    {
     "name": "stdout",
     "output_type": "stream",
     "text": [
      " Test Set Accuracy :  0.8\n"
     ]
    }
   ],
   "source": [
    "pred = Outputs[-1]\n",
    "\n",
    "for i in range(len(pred)) :\n",
    "    if pred[i] > 0.5:\n",
    "        pred[i] = 1\n",
    "    else :\n",
    "        pred[i] = 0\n",
    "\n",
    "counter = 0\n",
    "for i in range(len(pred)):\n",
    "    if pred[i] == int(Ytest[i]):\n",
    "        counter = counter + 1\n",
    "\n",
    "print(\" Test Set Accuracy : \" , counter/len(pred))"
   ]
  },
  {
   "cell_type": "code",
   "execution_count": null,
   "metadata": {},
   "outputs": [],
   "source": []
  }
 ],
 "metadata": {
  "kernelspec": {
   "display_name": "Python 3",
   "language": "python",
   "name": "python3"
  },
  "language_info": {
   "codemirror_mode": {
    "name": "ipython",
    "version": 3
   },
   "file_extension": ".py",
   "mimetype": "text/x-python",
   "name": "python",
   "nbconvert_exporter": "python",
   "pygments_lexer": "ipython3",
   "version": "3.6.4"
  }
 },
 "nbformat": 4,
 "nbformat_minor": 2
}
